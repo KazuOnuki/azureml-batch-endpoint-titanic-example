{
  "cells": [
    {
      "cell_type": "code",
      "source": [
        "import logging\r\n",
        "\r\n",
        "from matplotlib import pyplot as plt\r\n",
        "import pandas as pd\r\n",
        "import os\r\n",
        "\r\n",
        "import azureml.core\r\n",
        "from azureml.core.experiment import Experiment\r\n",
        "from azureml.core.workspace import Workspace\r\n",
        "from azureml.core.dataset import Dataset\r\n",
        "from azureml.train.automl import AutoMLConfig\r\n",
        "\r\n",
        "print(\"# [SDK Check]\")\r\n",
        "print(\"SDK version:\", azureml.core.VERSION)\r\n",
        "print(\"*\"*60)\r\n",
        "\r\n",
        "print(\"# [WS Check]\")\r\n",
        "ws = Workspace.from_config()\r\n",
        "ws_key = ['WS Name', 'RG', 'Region', 'Subscription']\r\n",
        "ws_val = [ws.name, ws.resource_group, ws.location, ws.subscription_id]\r\n",
        "for k,v in zip(ws_key, ws_val):\r\n",
        "    print(f'{k}: {v}')\r\n",
        "print(\"*\"*60)\r\n",
        "\r\n",
        "print(\"# [Get DS]\")\r\n",
        "# Get the default datastore\r\n",
        "ds = ws.get_default_datastore()\r\n",
        "ds_key = ['DS Name', 'DS Type', 'Storage Account Name', 'BLOB Contaner Name']\r\n",
        "ds_val = [ds.name, ds.datastore_type, ds.account_name, ds.container_name]\r\n",
        "for k,v in zip(ds_key, ds_val):\r\n",
        "    print(f'{k}: {v}')\r\n",
        "print(\"*\"*60)"
      ],
      "outputs": [
        {
          "output_type": "stream",
          "name": "stdout",
          "text": "# [SDK Check]\nSDK version: 1.39.0\n************************************************************\n# [WS Check]\nWS Name: publicws\nRG: myrg\nRegion: japaneast\nSubscription: 10bc7ab7-8f4c-47dc-b052-be0b53fe3c24\n************************************************************\n# [Get DS]\nDS Name: workspaceblobstore\nDS Type: AzureBlob\nStorage Account Name: publicws8148534499\nBLOB Contaner Name: azureml-blobstore-7eb7bbf7-3c36-411a-87f8-2d5015489bfd\n************************************************************\n"
        }
      ],
      "execution_count": 16,
      "metadata": {
        "gather": {
          "logged": 1649304541440
        }
      }
    },
    {
      "cell_type": "code",
      "source": [
        "# 計算環境\r\n",
        "from azureml.core.compute import ComputeTarget, AmlCompute\r\n",
        "from azureml.core.compute_target import ComputeTargetException\r\n",
        "\r\n",
        "compute_name = \"cpu-clusters\"\r\n",
        "\r\n",
        "if compute_name not in ws.compute_targets: # WSに存在しなければ新規作成\r\n",
        "    compute_config = AmlCompute.provisioning_configuration(vm_size = \"Standard_F4S_V2\", \r\n",
        "                                                           max_nodes=4, \r\n",
        "                                                           idle_seconds_before_scaledown = 300\r\n",
        "                                                           )\r\n",
        "\r\n",
        "    compute_target = ComputeTarget.create(ws, compute_name, compute_config)\r\n",
        "    compute_target.wait_for_completion(show_output=True)\r\n",
        "compute_target = ComputeTarget(workspace=ws, name=compute_name)"
      ],
      "outputs": [],
      "execution_count": 17,
      "metadata": {
        "jupyter": {
          "source_hidden": false,
          "outputs_hidden": false
        },
        "nteract": {
          "transient": {
            "deleting": false
          }
        },
        "gather": {
          "logged": 1649304541602
        }
      }
    },
    {
      "cell_type": "code",
      "source": [
        "# データセット\r\n",
        "from  azureml.exceptions import UserErrorException\r\n",
        "\r\n",
        "try:\r\n",
        "    dataset = Dataset.get_by_name(ws, name='titanic_train')\r\n",
        "except UserErrorException as e:\r\n",
        "    print(f'error: {e}')\r\n",
        "\r\n",
        "label_column_name = 'Survived'"
      ],
      "outputs": [],
      "execution_count": 18,
      "metadata": {
        "jupyter": {
          "source_hidden": false,
          "outputs_hidden": false
        },
        "nteract": {
          "transient": {
            "deleting": false
          }
        },
        "gather": {
          "logged": 1649304544811
        }
      }
    },
    {
      "cell_type": "code",
      "source": [
        "# 実験\r\n",
        "experiment_name = 'classification_titanic'\r\n",
        "experiment=Experiment(ws, experiment_name)"
      ],
      "outputs": [],
      "execution_count": 19,
      "metadata": {
        "jupyter": {
          "source_hidden": false,
          "outputs_hidden": false
        },
        "nteract": {
          "transient": {
            "deleting": false
          }
        },
        "gather": {
          "logged": 1649304546246
        }
      }
    },
    {
      "cell_type": "code",
      "source": [
        "# AutoML設定\r\n",
        "automl_settings = {\r\n",
        "    \"n_cross_validations\": 3,\r\n",
        "    \"primary_metric\": 'AUC_weighted',\r\n",
        "    \"enable_early_stopping\": True,\r\n",
        "    \"max_concurrent_iterations\": 2, # This is a limit for testing purpose, please increase it as per cluster size\r\n",
        "    \"experiment_timeout_hours\": 0.25, # This is a time limit for testing purposes, remove it for real use cases, this will drastically limit ablity to find the best model possible\r\n",
        "    \"verbosity\": logging.INFO,\r\n",
        "}\r\n",
        "\r\n",
        "automl_config = AutoMLConfig(\r\n",
        "    task = 'classification',\r\n",
        "    debug_log = 'automl_errors.log',\r\n",
        "    compute_target = compute_target,\r\n",
        "    training_data = dataset,\r\n",
        "    label_column_name = label_column_name,\r\n",
        "    **automl_settings\r\n",
        ")"
      ],
      "outputs": [],
      "execution_count": 20,
      "metadata": {
        "jupyter": {
          "source_hidden": false,
          "outputs_hidden": false
        },
        "nteract": {
          "transient": {
            "deleting": false
          }
        },
        "gather": {
          "logged": 1649304548328
        }
      }
    },
    {
      "cell_type": "code",
      "source": [
        "# 実行\r\n",
        "remote_run = experiment.submit(automl_config, show_output = False)"
      ],
      "outputs": [
        {
          "output_type": "stream",
          "name": "stdout",
          "text": "Submitting remote run.\n"
        },
        {
          "output_type": "display_data",
          "data": {
            "text/plain": "<IPython.core.display.HTML object>",
            "text/html": "<table style=\"width:100%\"><tr><th>Experiment</th><th>Id</th><th>Type</th><th>Status</th><th>Details Page</th><th>Docs Page</th></tr><tr><td>classification_titanic</td><td>AutoML_8e23b335-737b-4923-9b00-38e1a3cc2a26</td><td>automl</td><td>NotStarted</td><td><a href=\"https://ml.azure.com/runs/AutoML_8e23b335-737b-4923-9b00-38e1a3cc2a26?wsid=/subscriptions/10bc7ab7-8f4c-47dc-b052-be0b53fe3c24/resourcegroups/myrg/workspaces/publicws&amp;tid=72f988bf-86f1-41af-91ab-2d7cd011db47\" target=\"_blank\" rel=\"noopener\">Link to Azure Machine Learning studio</a></td><td><a href=\"https://docs.microsoft.com/en-us/python/api/overview/azure/ml/intro?view=azure-ml-py\" target=\"_blank\" rel=\"noopener\">Link to Documentation</a></td></tr></table>"
          },
          "metadata": {}
        }
      ],
      "execution_count": 21,
      "metadata": {
        "jupyter": {
          "source_hidden": false,
          "outputs_hidden": false
        },
        "nteract": {
          "transient": {
            "deleting": false
          }
        },
        "gather": {
          "logged": 1649304560197
        }
      }
    },
    {
      "cell_type": "code",
      "source": [
        "# 実行完了まで待機\r\n",
        "from azureml.widgets import RunDetails\r\n",
        "RunDetails(remote_run).show()"
      ],
      "outputs": [
        {
          "output_type": "display_data",
          "data": {
            "text/plain": "_AutoMLWidget(widget_settings={'childWidgetDisplay': 'popup', 'send_telemetry': False, 'log_level': 'INFO', 's…",
            "application/vnd.jupyter.widget-view+json": {
              "version_major": 2,
              "version_minor": 0,
              "model_id": "73c2cb9651444384b16f9936b60c52fb"
            }
          },
          "metadata": {}
        },
        {
          "output_type": "display_data",
          "data": {
            "application/aml.mini.widget.v1": "{\"status\": \"Running\", \"workbench_run_details_uri\": \"https://ml.azure.com/runs/AutoML_8e23b335-737b-4923-9b00-38e1a3cc2a26?wsid=/subscriptions/10bc7ab7-8f4c-47dc-b052-be0b53fe3c24/resourcegroups/myrg/workspaces/publicws&tid=72f988bf-86f1-41af-91ab-2d7cd011db47\", \"run_id\": \"AutoML_8e23b335-737b-4923-9b00-38e1a3cc2a26\", \"run_properties\": {\"run_id\": \"AutoML_8e23b335-737b-4923-9b00-38e1a3cc2a26\", \"created_utc\": \"2022-04-07T04:09:18.867688Z\", \"properties\": {\"num_iterations\": \"1000\", \"training_type\": \"TrainFull\", \"acquisition_function\": \"EI\", \"primary_metric\": \"AUC_weighted\", \"train_split\": \"0\", \"acquisition_parameter\": \"0\", \"num_cross_validation\": \"3\", \"target\": \"cpu-clusters\", \"AMLSettingsJsonString\": \"{\\\"path\\\":null,\\\"name\\\":\\\"classification_titanic\\\",\\\"subscription_id\\\":\\\"10bc7ab7-8f4c-47dc-b052-be0b53fe3c24\\\",\\\"resource_group\\\":\\\"myrg\\\",\\\"workspace_name\\\":\\\"publicws\\\",\\\"region\\\":\\\"japaneast\\\",\\\"compute_target\\\":\\\"cpu-clusters\\\",\\\"spark_service\\\":null,\\\"azure_service\\\":\\\"remote\\\",\\\"many_models\\\":false,\\\"pipeline_fetch_max_batch_size\\\":1,\\\"enable_batch_run\\\":true,\\\"enable_run_restructure\\\":false,\\\"start_auxiliary_runs_before_parent_complete\\\":false,\\\"enable_code_generation\\\":false,\\\"iterations\\\":1000,\\\"primary_metric\\\":\\\"AUC_weighted\\\",\\\"task_type\\\":\\\"classification\\\",\\\"positive_label\\\":null,\\\"data_script\\\":null,\\\"test_size\\\":0.0,\\\"test_include_predictions_only\\\":false,\\\"validation_size\\\":0.0,\\\"n_cross_validations\\\":3,\\\"y_min\\\":null,\\\"y_max\\\":null,\\\"num_classes\\\":null,\\\"featurization\\\":\\\"auto\\\",\\\"_ignore_package_version_incompatibilities\\\":false,\\\"is_timeseries\\\":false,\\\"max_cores_per_iteration\\\":1,\\\"max_concurrent_iterations\\\":2,\\\"iteration_timeout_minutes\\\":null,\\\"mem_in_mb\\\":null,\\\"enforce_time_on_windows\\\":false,\\\"experiment_timeout_minutes\\\":15,\\\"experiment_exit_score\\\":null,\\\"partition_column_names\\\":null,\\\"whitelist_models\\\":null,\\\"blacklist_algos\\\":[\\\"TensorFlowLinearClassifier\\\",\\\"TensorFlowDNN\\\"],\\\"supported_models\\\":[\\\"LogisticRegression\\\",\\\"DecisionTree\\\",\\\"RandomForest\\\",\\\"ExtremeRandomTrees\\\",\\\"TensorFlowLinearClassifier\\\",\\\"TensorFlowDNN\\\",\\\"TabnetClassifier\\\",\\\"XGBoostClassifier\\\",\\\"SGD\\\",\\\"MultinomialNaiveBayes\\\",\\\"GradientBoosting\\\",\\\"SVM\\\",\\\"LightGBM\\\",\\\"AveragedPerceptronClassifier\\\",\\\"BernoulliNaiveBayes\\\",\\\"KNN\\\",\\\"LinearSVM\\\"],\\\"private_models\\\":[],\\\"auto_blacklist\\\":true,\\\"blacklist_samples_reached\\\":false,\\\"exclude_nan_labels\\\":true,\\\"verbosity\\\":20,\\\"_debug_log\\\":\\\"azureml_automl.log\\\",\\\"show_warnings\\\":false,\\\"model_explainability\\\":true,\\\"service_url\\\":null,\\\"sdk_url\\\":null,\\\"sdk_packages\\\":null,\\\"enable_onnx_compatible_models\\\":false,\\\"enable_split_onnx_featurizer_estimator_models\\\":false,\\\"vm_type\\\":\\\"STANDARD_F4S_V2\\\",\\\"telemetry_verbosity\\\":20,\\\"send_telemetry\\\":true,\\\"enable_dnn\\\":false,\\\"scenario\\\":\\\"SDK-1.13.0\\\",\\\"environment_label\\\":null,\\\"save_mlflow\\\":false,\\\"enable_categorical_indicators\\\":false,\\\"force_text_dnn\\\":false,\\\"enable_feature_sweeping\\\":true,\\\"enable_early_stopping\\\":true,\\\"early_stopping_n_iters\\\":10,\\\"arguments\\\":null,\\\"dataset_id\\\":\\\"9c4a62b2-12f3-40f9-be9d-83161cd9ccc5\\\",\\\"hyperdrive_config\\\":null,\\\"validation_dataset_id\\\":null,\\\"run_source\\\":null,\\\"metrics\\\":null,\\\"enable_metric_confidence\\\":false,\\\"enable_ensembling\\\":true,\\\"enable_stack_ensembling\\\":true,\\\"ensemble_iterations\\\":15,\\\"enable_tf\\\":false,\\\"enable_subsampling\\\":null,\\\"subsample_seed\\\":null,\\\"enable_nimbusml\\\":false,\\\"enable_streaming\\\":false,\\\"force_streaming\\\":false,\\\"track_child_runs\\\":true,\\\"allowed_private_models\\\":[],\\\"label_column_name\\\":\\\"Survived\\\",\\\"weight_column_name\\\":null,\\\"cv_split_column_names\\\":null,\\\"enable_local_managed\\\":false,\\\"_local_managed_run_id\\\":null,\\\"cost_mode\\\":1,\\\"lag_length\\\":0,\\\"metric_operation\\\":\\\"maximize\\\",\\\"preprocess\\\":true}\", \"DataPrepJsonString\": \"{\\\\\\\"training_data\\\\\\\": {\\\\\\\"datasetId\\\\\\\": \\\\\\\"9c4a62b2-12f3-40f9-be9d-83161cd9ccc5\\\\\\\"}, \\\\\\\"datasets\\\\\\\": 0}\", \"EnableSubsampling\": null, \"runTemplate\": \"AutoML\", \"azureml.runsource\": \"automl\", \"display_task_type\": \"classification\", \"dependencies_versions\": \"{\\\"azureml-widgets\\\": \\\"1.39.0\\\", \\\"azureml-training-tabular\\\": \\\"1.39.0\\\", \\\"azureml-train\\\": \\\"1.39.0\\\", \\\"azureml-train-restclients-hyperdrive\\\": \\\"1.39.0\\\", \\\"azureml-train-core\\\": \\\"1.39.0\\\", \\\"azureml-train-automl\\\": \\\"1.39.0\\\", \\\"azureml-train-automl-runtime\\\": \\\"1.39.0\\\", \\\"azureml-train-automl-client\\\": \\\"1.39.0\\\", \\\"azureml-tensorboard\\\": \\\"1.39.0\\\", \\\"azureml-telemetry\\\": \\\"1.39.0\\\", \\\"azureml-sdk\\\": \\\"1.39.0\\\", \\\"azureml-samples\\\": \\\"0+unknown\\\", \\\"azureml-responsibleai\\\": \\\"1.39.0\\\", \\\"azureml-pipeline\\\": \\\"1.39.0\\\", \\\"azureml-pipeline-steps\\\": \\\"1.39.0\\\", \\\"azureml-pipeline-core\\\": \\\"1.39.0\\\", \\\"azureml-opendatasets\\\": \\\"1.39.0\\\", \\\"azureml-mlflow\\\": \\\"1.39.0\\\", \\\"azureml-interpret\\\": \\\"1.39.0\\\", \\\"azureml-inference-server-http\\\": \\\"0.4.10\\\", \\\"azureml-explain-model\\\": \\\"1.39.0\\\", \\\"azureml-defaults\\\": \\\"1.39.0\\\", \\\"azureml-dataset-runtime\\\": \\\"1.39.0\\\", \\\"azureml-dataprep\\\": \\\"2.27.1\\\", \\\"azureml-dataprep-rslex\\\": \\\"2.3.1\\\", \\\"azureml-dataprep-native\\\": \\\"38.0.0\\\", \\\"azureml-datadrift\\\": \\\"1.39.0\\\", \\\"azureml-core\\\": \\\"1.39.0\\\", \\\"azureml-contrib-services\\\": \\\"1.39.0\\\", \\\"azureml-contrib-server\\\": \\\"1.39.0\\\", \\\"azureml-contrib-reinforcementlearning\\\": \\\"1.39.0\\\", \\\"azureml-contrib-pipeline-steps\\\": \\\"1.39.0\\\", \\\"azureml-contrib-notebook\\\": \\\"1.39.0\\\", \\\"azureml-contrib-fairness\\\": \\\"1.39.0\\\", \\\"azureml-contrib-dataset\\\": \\\"1.39.0\\\", \\\"azureml-contrib-automl-pipeline-steps\\\": \\\"1.39.0\\\", \\\"azureml-cli-common\\\": \\\"1.39.0\\\", \\\"azureml-automl-runtime\\\": \\\"1.39.0\\\", \\\"azureml-automl-dnn-nlp\\\": \\\"1.39.0\\\", \\\"azureml-automl-core\\\": \\\"1.39.0\\\", \\\"azureml-accel-models\\\": \\\"1.39.0\\\"}\", \"_aml_system_scenario_identification\": \"Remote.Parent\", \"ClientType\": \"SDK\", \"environment_cpu_name\": \"AzureML-AutoML\", \"environment_cpu_label\": \"prod\", \"environment_gpu_name\": \"AzureML-AutoML-GPU\", \"environment_gpu_label\": \"prod\", \"root_attribution\": \"automl\", \"attribution\": \"AutoML\", \"Orchestrator\": \"AutoML\", \"CancelUri\": \"https://japaneast.api.azureml.ms/jasmine/v1.0/subscriptions/10bc7ab7-8f4c-47dc-b052-be0b53fe3c24/resourceGroups/myrg/providers/Microsoft.MachineLearningServices/workspaces/publicws/experimentids/2e6f3f07-ae58-4723-9919-38e12c467bcd/cancel/AutoML_8e23b335-737b-4923-9b00-38e1a3cc2a26\", \"ClientSdkVersion\": \"1.39.1\", \"snapshotId\": \"00000000-0000-0000-0000-000000000000\", \"SetupRunId\": \"AutoML_8e23b335-737b-4923-9b00-38e1a3cc2a26_setup\", \"SetupRunContainerId\": \"dcid.AutoML_8e23b335-737b-4923-9b00-38e1a3cc2a26_setup\", \"FeaturizationRunJsonPath\": \"featurizer_container.json\", \"FeaturizationRunId\": \"AutoML_8e23b335-737b-4923-9b00-38e1a3cc2a26_featurize\", \"ProblemInfoJsonString\": \"{\\\"dataset_num_categorical\\\": 0, \\\"is_sparse\\\": true, \\\"subsampling\\\": false, \\\"has_extra_col\\\": true, \\\"dataset_classes\\\": 2, \\\"dataset_features\\\": 6493, \\\"dataset_samples\\\": 800, \\\"single_frequency_class_detected\\\": false}\"}, \"tags\": {\"model_explain_run\": \"best_run\", \"_aml_system_automl_run_workspace_id\": \"7eb7bbf7-3c36-411a-87f8-2d5015489bfd\", \"_aml_system_azureml.automlComponent\": \"AutoML\"}, \"end_time_utc\": null, \"status\": \"Running\", \"log_files\": {}, \"log_groups\": [], \"run_duration\": \"0:09:13\", \"run_number\": \"1649304558\", \"run_queued_details\": {\"status\": \"Running\", \"details\": null}}, \"child_runs\": [{\"run_id\": \"AutoML_8e23b335-737b-4923-9b00-38e1a3cc2a26_setup\", \"run_number\": 1649304571, \"metric\": null, \"status\": \"Completed\", \"run_type\": \"azureml.scriptrun\", \"training_percent\": null, \"start_time\": \"2022-04-07T04:13:37.017379Z\", \"end_time\": \"2022-04-07T04:17:28.233252Z\", \"created_time\": \"2022-04-07T04:09:31.817117Z\", \"created_time_dt\": \"2022-04-07T04:09:31.817117Z\", \"duration\": \"0:07:56\", \"iteration\": null, \"goal\": null, \"run_name\": \"Completed\", \"run_properties\": null}, {\"run_id\": \"AutoML_8e23b335-737b-4923-9b00-38e1a3cc2a26_featurize\", \"run_number\": 1649305048, \"metric\": null, \"status\": \"Completed\", \"run_type\": \"automl.featurization\", \"training_percent\": null, \"start_time\": \"2022-04-07T04:17:28.853149Z\", \"end_time\": \"2022-04-07T04:18:23.69032Z\", \"created_time\": \"2022-04-07T04:17:28.58756Z\", \"created_time_dt\": \"2022-04-07T04:17:28.58756Z\", \"duration\": \"0:00:55\", \"iteration\": null, \"goal\": null, \"run_name\": \"Completed\", \"run_properties\": null}, {\"run_id\": \"AutoML_8e23b335-737b-4923-9b00-38e1a3cc2a26_2\", \"run_number\": 1649305105, \"metric\": null, \"status\": \"NotStarted\", \"run_type\": null, \"training_percent\": \"100\", \"start_time\": \"\", \"end_time\": \"\", \"created_time\": \"2022-04-07T04:18:25.868575Z\", \"created_time_dt\": \"2022-04-07T04:18:25.868575Z\", \"duration\": \"0:00:07\", \"iteration\": \"2\", \"goal\": null, \"run_name\": \"NotStarted\", \"run_properties\": null}, {\"run_id\": \"AutoML_8e23b335-737b-4923-9b00-38e1a3cc2a26_6\", \"run_number\": 1649305107, \"metric\": null, \"status\": \"NotStarted\", \"run_type\": null, \"training_percent\": \"100\", \"start_time\": \"\", \"end_time\": \"\", \"created_time\": \"2022-04-07T04:18:27.333335Z\", \"created_time_dt\": \"2022-04-07T04:18:27.333335Z\", \"duration\": \"0:00:05\", \"iteration\": \"6\", \"goal\": null, \"run_name\": \"NotStarted\", \"run_properties\": null}, {\"run_id\": \"AutoML_8e23b335-737b-4923-9b00-38e1a3cc2a26_worker_0\", \"run_number\": 1649305108, \"metric\": null, \"status\": \"Queued\", \"run_type\": \"azureml.scriptrun\", \"training_percent\": null, \"start_time\": \"\", \"end_time\": \"\", \"created_time\": \"2022-04-07T04:18:28.728218Z\", \"created_time_dt\": \"2022-04-07T04:18:28.728218Z\", \"duration\": \"0:00:04\", \"iteration\": null, \"goal\": null, \"run_name\": \"Queued\", \"run_properties\": null}, {\"run_id\": \"AutoML_8e23b335-737b-4923-9b00-38e1a3cc2a26_5\", \"run_number\": 1649305106, \"metric\": null, \"status\": \"NotStarted\", \"run_type\": null, \"training_percent\": \"100\", \"start_time\": \"\", \"end_time\": \"\", \"created_time\": \"2022-04-07T04:18:26.964876Z\", \"created_time_dt\": \"2022-04-07T04:18:26.964876Z\", \"duration\": \"0:00:06\", \"iteration\": \"5\", \"goal\": null, \"run_name\": \"NotStarted\", \"run_properties\": null}], \"children_metrics\": {\"categories\": null, \"series\": null, \"metricName\": null}, \"run_metrics\": [{\"name\": \"experiment_status\", \"run_id\": \"AutoML_8e23b335-737b-4923-9b00-38e1a3cc2a26\", \"categories\": [0, 1, 2, 3, 4, 5], \"series\": [{\"data\": [\"DatasetEvaluation\", \"FeaturesGeneration\", \"DatasetFeaturization\", \"DatasetFeaturizationCompleted\", \"DatasetCrossValidationSplit\", \"ModelSelection\"]}]}, {\"name\": \"experiment_status_description\", \"run_id\": \"AutoML_8e23b335-737b-4923-9b00-38e1a3cc2a26\", \"categories\": [0, 1, 2, 3, 4, 5], \"series\": [{\"data\": [\"Gathering dataset statistics.\", \"Generating features for the dataset.\", \"Beginning to fit featurizers and featurize the dataset.\", \"Completed fit featurizers and featurizing the dataset.\", \"Generating individually featurized CV splits.\", \"Beginning model selection.\"]}]}], \"run_logs\": \"Your job is submitted in Azure cloud and we are monitoring to get logs...\", \"graph\": {}, \"widget_settings\": {\"childWidgetDisplay\": \"popup\", \"send_telemetry\": false, \"log_level\": \"INFO\", \"sdk_version\": \"1.39.0\"}, \"loading\": false}"
          },
          "metadata": {}
        }
      ],
      "execution_count": 28,
      "metadata": {
        "jupyter": {
          "source_hidden": false,
          "outputs_hidden": false
        },
        "nteract": {
          "transient": {
            "deleting": false
          }
        },
        "gather": {
          "logged": 1649304791958
        }
      }
    },
    {
      "cell_type": "code",
      "source": [
        "from azureml.core import Experiment \r\n",
        "from azureml.train.automl.constants import Scenarios\r\n",
        "from azureml._restclient.jasmine_client import JasmineClient\r\n",
        " \r\n",
        "training_experiment = Experiment(ws, 'classification_titanic')\r\n",
        " \r\n",
        "jasmine_client = JasmineClient(\r\n",
        "        service_context=training_experiment.workspace.service_context,\r\n",
        "        experiment_name=training_experiment.name,\r\n",
        "        experiment_id=training_experiment.id,\r\n",
        "    )\r\n",
        " \r\n",
        "training_env = jasmine_client.get_curated_environment(\r\n",
        "    scenario=Scenarios.AUTOML,\r\n",
        "    enable_dnn=False,\r\n",
        "    enable_gpu=False,\r\n",
        "    compute=compute_target,\r\n",
        "    compute_sku=compute_target.vm_size\r\n",
        ")\r\n",
        "\r\n",
        "training_env.save_to_directory('./env', overwrite=False)"
      ],
      "outputs": [],
      "execution_count": 29,
      "metadata": {
        "jupyter": {
          "source_hidden": false,
          "outputs_hidden": false
        },
        "nteract": {
          "transient": {
            "deleting": false
          }
        },
        "gather": {
          "logged": 1649304520705
        }
      }
    },
    {
      "cell_type": "code",
      "source": [],
      "outputs": [],
      "execution_count": null,
      "metadata": {
        "jupyter": {
          "source_hidden": false,
          "outputs_hidden": false
        },
        "nteract": {
          "transient": {
            "deleting": false
          }
        }
      }
    }
  ],
  "metadata": {
    "kernelspec": {
      "display_name": "Python 3.8 - AzureML",
      "language": "python",
      "name": "python38-azureml"
    },
    "language_info": {
      "codemirror_mode": {
        "name": "ipython",
        "version": 3
      },
      "file_extension": ".py",
      "mimetype": "text/x-python",
      "name": "python",
      "nbconvert_exporter": "python",
      "pygments_lexer": "ipython3",
      "version": "3.8.1"
    },
    "microsoft": {
      "host": {
        "AzureML": {
          "notebookHasBeenCompleted": true
        }
      }
    },
    "nteract": {
      "version": "nteract-front-end@1.0.0"
    }
  },
  "nbformat": 4,
  "nbformat_minor": 0
}