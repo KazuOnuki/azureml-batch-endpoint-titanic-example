{
 "cells": [
  {
   "cell_type": "code",
   "execution_count": null,
   "metadata": {
    "gather": {
     "logged": 1649304541440
    }
   },
   "outputs": [],
   "source": [
    "import logging\n",
    "\n",
    "from matplotlib import pyplot as plt\n",
    "import pandas as pd\n",
    "import os\n",
    "\n",
    "import azureml.core\n",
    "from azureml.core.experiment import Experiment\n",
    "from azureml.core.workspace import Workspace\n",
    "from azureml.core.dataset import Dataset\n",
    "from azureml.train.automl import AutoMLConfig\n",
    "\n",
    "print(\"# [SDK Check]\")\n",
    "print(\"SDK version:\", azureml.core.VERSION)\n",
    "print(\"*\"*60)\n",
    "\n",
    "print(\"# [WS Check]\")\n",
    "ws = Workspace.from_config()\n",
    "ws_key = ['WS Name', 'RG', 'Region', 'Subscription']\n",
    "ws_val = [ws.name, ws.resource_group, ws.location, ws.subscription_id]\n",
    "for k,v in zip(ws_key, ws_val):\n",
    "    print(f'{k}: {v}')\n",
    "print(\"*\"*60)\n",
    "\n",
    "print(\"# [Get DS]\")\n",
    "# Get the default datastore\n",
    "ds = ws.get_default_datastore()\n",
    "ds_key = ['DS Name', 'DS Type', 'Storage Account Name', 'BLOB Contaner Name']\n",
    "ds_val = [ds.name, ds.datastore_type, ds.account_name, ds.container_name]\n",
    "for k,v in zip(ds_key, ds_val):\n",
    "    print(f'{k}: {v}')\n",
    "print(\"*\"*60)"
   ]
  },
  {
   "cell_type": "code",
   "execution_count": null,
   "metadata": {
    "gather": {
     "logged": 1649304541602
    },
    "jupyter": {
     "outputs_hidden": false,
     "source_hidden": false
    },
    "nteract": {
     "transient": {
      "deleting": false
     }
    }
   },
   "outputs": [],
   "source": [
    "# 計算環境\n",
    "from azureml.core.compute import ComputeTarget, AmlCompute\n",
    "from azureml.core.compute_target import ComputeTargetException\n",
    "\n",
    "compute_name = \"cpu-clusters\"\n",
    "\n",
    "if compute_name not in ws.compute_targets: # WSに存在しなければ新規作成\n",
    "    compute_config = AmlCompute.provisioning_configuration(vm_size = \"Standard_F4S_V2\", \n",
    "                                                           max_nodes=4, \n",
    "                                                           idle_seconds_before_scaledown = 300\n",
    "                                                           )\n",
    "\n",
    "    compute_target = ComputeTarget.create(ws, compute_name, compute_config)\n",
    "    compute_target.wait_for_completion(show_output=True)\n",
    "compute_target = ComputeTarget(workspace=ws, name=compute_name)"
   ]
  },
  {
   "cell_type": "code",
   "execution_count": null,
   "metadata": {
    "gather": {
     "logged": 1649304544811
    },
    "jupyter": {
     "outputs_hidden": false,
     "source_hidden": false
    },
    "nteract": {
     "transient": {
      "deleting": false
     }
    }
   },
   "outputs": [],
   "source": [
    "# データセット\n",
    "from  azureml.exceptions import UserErrorException\n",
    "\n",
    "try:\n",
    "    dataset = Dataset.get_by_name(ws, name='titanic_train')\n",
    "except UserErrorException as e:\n",
    "    print(f'error: {e}')\n",
    "\n",
    "label_column_name = 'Survived'"
   ]
  },
  {
   "cell_type": "code",
   "execution_count": null,
   "metadata": {
    "gather": {
     "logged": 1649304546246
    },
    "jupyter": {
     "outputs_hidden": false,
     "source_hidden": false
    },
    "nteract": {
     "transient": {
      "deleting": false
     }
    }
   },
   "outputs": [],
   "source": [
    "# 実験\n",
    "experiment_name = 'classification_titanic'\n",
    "experiment=Experiment(ws, experiment_name)"
   ]
  },
  {
   "cell_type": "code",
   "execution_count": null,
   "metadata": {
    "gather": {
     "logged": 1649304548328
    },
    "jupyter": {
     "outputs_hidden": false,
     "source_hidden": false
    },
    "nteract": {
     "transient": {
      "deleting": false
     }
    }
   },
   "outputs": [],
   "source": [
    "# AutoML設定\n",
    "automl_settings = {\n",
    "    \"n_cross_validations\": 3,\n",
    "    \"primary_metric\": 'AUC_weighted',\n",
    "    \"enable_early_stopping\": True,\n",
    "    \"max_concurrent_iterations\": 2, # This is a limit for testing purpose, please increase it as per cluster size\n",
    "    \"experiment_timeout_hours\": 0.25, # This is a time limit for testing purposes, remove it for real use cases, this will drastically limit ablity to find the best model possible\n",
    "    \"verbosity\": logging.INFO,\n",
    "}\n",
    "\n",
    "automl_config = AutoMLConfig(\n",
    "    task = 'classification',\n",
    "    debug_log = 'automl_errors.log',\n",
    "    compute_target = compute_target,\n",
    "    training_data = dataset,\n",
    "    label_column_name = label_column_name,\n",
    "    **automl_settings\n",
    ")"
   ]
  },
  {
   "cell_type": "code",
   "execution_count": null,
   "metadata": {
    "gather": {
     "logged": 1649304560197
    },
    "jupyter": {
     "outputs_hidden": false,
     "source_hidden": false
    },
    "nteract": {
     "transient": {
      "deleting": false
     }
    }
   },
   "outputs": [],
   "source": [
    "# 実行\n",
    "remote_run = experiment.submit(automl_config, show_output = False)"
   ]
  },
  {
   "cell_type": "code",
   "execution_count": null,
   "metadata": {
    "gather": {
     "logged": 1649304791958
    },
    "jupyter": {
     "outputs_hidden": false,
     "source_hidden": false
    },
    "nteract": {
     "transient": {
      "deleting": false
     }
    }
   },
   "outputs": [],
   "source": [
    "# 実行完了まで待機\n",
    "from azureml.widgets import RunDetails\n",
    "RunDetails(remote_run).show()"
   ]
  },
  {
   "cell_type": "code",
   "execution_count": null,
   "metadata": {
    "gather": {
     "logged": 1649304520705
    },
    "jupyter": {
     "outputs_hidden": false,
     "source_hidden": false
    },
    "nteract": {
     "transient": {
      "deleting": false
     }
    }
   },
   "outputs": [],
   "source": [
    "from azureml.core import Experiment \n",
    "from azureml.train.automl.constants import Scenarios\n",
    "from azureml._restclient.jasmine_client import JasmineClient\n",
    " \n",
    "training_experiment = Experiment(ws, 'classification_titanic')\n",
    " \n",
    "jasmine_client = JasmineClient(\n",
    "        service_context=training_experiment.workspace.service_context,\n",
    "        experiment_name=training_experiment.name,\n",
    "        experiment_id=training_experiment.id,\n",
    "    )\n",
    " \n",
    "training_env = jasmine_client.get_curated_environment(\n",
    "    scenario=Scenarios.AUTOML,\n",
    "    enable_dnn=False,\n",
    "    enable_gpu=False,\n",
    "    compute=compute_target,\n",
    "    compute_sku=compute_target.vm_size\n",
    ")\n",
    "\n",
    "training_env.save_to_directory('./env', overwrite=False)"
   ]
  },
  {
   "cell_type": "code",
   "execution_count": null,
   "metadata": {
    "jupyter": {
     "outputs_hidden": false,
     "source_hidden": false
    },
    "nteract": {
     "transient": {
      "deleting": false
     }
    }
   },
   "outputs": [],
   "source": []
  }
 ],
 "metadata": {
  "kernelspec": {
   "display_name": "Python 3.8 - AzureML",
   "language": "python",
   "name": "python38-azureml"
  },
  "language_info": {
   "codemirror_mode": {
    "name": "ipython",
    "version": 3
   },
   "file_extension": ".py",
   "mimetype": "text/x-python",
   "name": "python",
   "nbconvert_exporter": "python",
   "pygments_lexer": "ipython3",
   "version": "3.8.1"
  },
  "microsoft": {
   "host": {
    "AzureML": {
     "notebookHasBeenCompleted": true
    }
   }
  },
  "nteract": {
   "version": "nteract-front-end@1.0.0"
  }
 },
 "nbformat": 4,
 "nbformat_minor": 1
}
