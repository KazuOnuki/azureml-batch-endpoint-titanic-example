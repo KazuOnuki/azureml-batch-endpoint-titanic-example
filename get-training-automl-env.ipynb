{
  "cells": [
    {
      "cell_type": "code",
      "source": [
        "from azureml.core import Experiment, Workspace\r\n",
        "from azureml.train.automl.constants import Scenarios\r\n",
        "from azureml._restclient.jasmine_client import JasmineClient\r\n",
        "from azureml.core.compute import ComputeTarget, AmlCompute\r\n",
        "from azureml.core.compute_target import ComputeTargetException\r\n",
        "\r\n",
        "\r\n",
        "compute_name = \"cpu-clusters\"\r\n",
        "ws = Workspace.from_config()\r\n",
        "\r\n",
        "if compute_name not in ws.compute_targets: # WSに存在しなければ新規作成\r\n",
        "    compute_config = AmlCompute.provisioning_configuration(\r\n",
        "        vm_size = \"Standard_F4S_V2\", \r\n",
        "        max_nodes=4, \r\n",
        "        idle_seconds_before_scaledown = 300\r\n",
        "    )\r\n",
        "    compute_target = ComputeTarget.create(ws, compute_name, compute_config)\r\n",
        "    compute_target.wait_for_completion(show_output=True)\r\n",
        "compute_target = ComputeTarget(workspace=ws, name=compute_name)"
      ],
      "outputs": [],
      "execution_count": 2,
      "metadata": {
        "gather": {
          "logged": 1649366670011
        }
      }
    },
    {
      "cell_type": "markdown",
      "source": [
        "推論環境もトレーニング時の環境と同環境でなければ、エラーを起こすため、\r\n",
        "`JasmineClient`を使用して、トレーニング時の環境を取得する"
      ],
      "metadata": {
        "nteract": {
          "transient": {
            "deleting": false
          }
        }
      }
    },
    {
      "cell_type": "code",
      "source": [
        "training_experiment = Experiment(ws, 'classification_titanic')\r\n",
        " \r\n",
        "jasmine_client = JasmineClient(\r\n",
        "    service_context=training_experiment.workspace.service_context,\r\n",
        "    experiment_name=training_experiment.name,\r\n",
        "    experiment_id=training_experiment.id,\r\n",
        ")\r\n",
        " \r\n",
        "training_env = jasmine_client.get_curated_environment(\r\n",
        "    scenario=Scenarios.AUTOML,\r\n",
        "    enable_dnn=False,\r\n",
        "    enable_gpu=False,\r\n",
        "    compute=compute_target,\r\n",
        "    compute_sku=compute_target.vm_size\r\n",
        ")\r\n",
        "\r\n",
        "# 抽出したトレーニング環境を .yml としてエクスポートする\r\n",
        "training_env.save_to_directory('./env', overwrite=True)"
      ],
      "outputs": [],
      "execution_count": null,
      "metadata": {
        "jupyter": {
          "source_hidden": false,
          "outputs_hidden": false
        },
        "nteract": {
          "transient": {
            "deleting": false
          }
        }
      }
    }
  ],
  "metadata": {
    "kernelspec": {
      "name": "python38-azureml",
      "language": "python",
      "display_name": "Python 3.8 - AzureML"
    },
    "language_info": {
      "name": "python",
      "version": "3.8.5",
      "mimetype": "text/x-python",
      "codemirror_mode": {
        "name": "ipython",
        "version": 3
      },
      "pygments_lexer": "ipython3",
      "nbconvert_exporter": "python",
      "file_extension": ".py"
    },
    "kernel_info": {
      "name": "python38-azureml"
    },
    "microsoft": {
      "host": {
        "AzureML": {
          "notebookHasBeenCompleted": true
        }
      }
    },
    "nteract": {
      "version": "nteract-front-end@1.0.0"
    }
  },
  "nbformat": 4,
  "nbformat_minor": 0
}